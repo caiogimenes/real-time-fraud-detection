{
 "cells": [
  {
   "cell_type": "code",
   "execution_count": 1,
   "id": "04575731",
   "metadata": {},
   "outputs": [],
   "source": [
    "from frauddetect.simulator import KaggleSimulator"
   ]
  },
  {
   "cell_type": "code",
   "execution_count": 2,
   "id": "6a2625b5",
   "metadata": {},
   "outputs": [
    {
     "name": "stdout",
     "output_type": "stream",
     "text": [
      "C:\\Users\\ciaon\\.cache\\kagglehub\\datasets\\mlg-ulb\\creditcardfraud\\versions\\3\\creditcard.csv\n"
     ]
    }
   ],
   "source": [
    "simulator = KaggleSimulator()\n",
    "simulator.show_avaiable_data()"
   ]
  },
  {
   "cell_type": "code",
   "execution_count": null,
   "id": "89284862",
   "metadata": {},
   "outputs": [
    {
     "ename": "TypeError",
     "evalue": "list indices must be integers or slices, not str",
     "output_type": "error",
     "traceback": [
      "\u001b[31m---------------------------------------------------------------------------\u001b[39m",
      "\u001b[31mTypeError\u001b[39m                                 Traceback (most recent call last)",
      "\u001b[36mCell\u001b[39m\u001b[36m \u001b[39m\u001b[32mIn[3]\u001b[39m\u001b[32m, line 1\u001b[39m\n\u001b[32m----> \u001b[39m\u001b[32m1\u001b[39m \u001b[43msimulator\u001b[49m\u001b[43m.\u001b[49m\u001b[43mselect_data\u001b[49m\u001b[43m(\u001b[49m\u001b[43msimulator\u001b[49m\u001b[43m.\u001b[49m\u001b[43mavaiable_data\u001b[49m\u001b[43m[\u001b[49m\u001b[32;43m0\u001b[39;49m\u001b[43m]\u001b[49m\u001b[43m)\u001b[49m\n",
      "\u001b[36mFile \u001b[39m\u001b[32mC:\\projects\\real-time-fraud-detection\\src\\frauddetect\\simulator\\kaggle.py:23\u001b[39m, in \u001b[36mKaggleSimulator.select_data\u001b[39m\u001b[34m(self, i)\u001b[39m\n\u001b[32m     22\u001b[39m \u001b[38;5;28;01mdef\u001b[39;00m\u001b[38;5;250m \u001b[39m\u001b[34mselect_data\u001b[39m(\u001b[38;5;28mself\u001b[39m, i):\n\u001b[32m---> \u001b[39m\u001b[32m23\u001b[39m     path = \u001b[38;5;28;43mself\u001b[39;49m\u001b[43m.\u001b[49m\u001b[43mavaiable_data\u001b[49m\u001b[43m[\u001b[49m\u001b[43mi\u001b[49m\u001b[43m]\u001b[49m\n\u001b[32m     24\u001b[39m     \u001b[38;5;28mself\u001b[39m.selected_data = path\n\u001b[32m     25\u001b[39m     \u001b[38;5;28mself\u001b[39m.iterator = KaggleIterator(path)\n",
      "\u001b[31mTypeError\u001b[39m: list indices must be integers or slices, not str"
     ]
    }
   ],
   "source": [
    "simulator.select_data(1)"
   ]
  },
  {
   "cell_type": "code",
   "execution_count": null,
   "id": "60cae8b5",
   "metadata": {},
   "outputs": [],
   "source": []
  }
 ],
 "metadata": {
  "kernelspec": {
   "display_name": "Python 3",
   "language": "python",
   "name": "python3"
  },
  "language_info": {
   "codemirror_mode": {
    "name": "ipython",
    "version": 3
   },
   "file_extension": ".py",
   "mimetype": "text/x-python",
   "name": "python",
   "nbconvert_exporter": "python",
   "pygments_lexer": "ipython3",
   "version": "3.13.2"
  }
 },
 "nbformat": 4,
 "nbformat_minor": 5
}
