{
 "cells": [
  {
   "cell_type": "code",
   "execution_count": 1,
   "id": "04575731",
   "metadata": {},
   "outputs": [],
   "source": [
    "from frauddetect.simulator import KaggleSimulator"
   ]
  },
  {
   "cell_type": "code",
   "execution_count": 2,
   "id": "6a2625b5",
   "metadata": {},
   "outputs": [
    {
     "name": "stdout",
     "output_type": "stream",
     "text": [
      "Downloading from https://www.kaggle.com/api/v1/datasets/download/rikdifos/credit-card-approval-prediction?dataset_version_number=3...\n"
     ]
    },
    {
     "name": "stderr",
     "output_type": "stream",
     "text": [
      "100%|██████████| 5.32M/5.32M [00:01<00:00, 4.07MB/s]"
     ]
    },
    {
     "name": "stdout",
     "output_type": "stream",
     "text": [
      "Extracting files...\n"
     ]
    },
    {
     "name": "stderr",
     "output_type": "stream",
     "text": [
      "\n"
     ]
    },
    {
     "name": "stdout",
     "output_type": "stream",
     "text": [
      "0 --->\t C:\\Users\\ciaon\\.cache\\kagglehub\\datasets\\rikdifos\\credit-card-approval-prediction\\versions\\3\\application_record.csv\n",
      "1 --->\t C:\\Users\\ciaon\\.cache\\kagglehub\\datasets\\rikdifos\\credit-card-approval-prediction\\versions\\3\\credit_record.csv\n"
     ]
    }
   ],
   "source": [
    "simulator = KaggleSimulator(source=\"rikdifos/credit-card-approval-prediction\")\n",
    "simulator.show_avaiable_data()"
   ]
  },
  {
   "cell_type": "code",
   "execution_count": null,
   "id": "89284862",
   "metadata": {},
   "outputs": [],
   "source": [
    "simulator.select_data(index=0)"
   ]
  },
  {
   "cell_type": "code",
   "execution_count": null,
   "id": "05701965",
   "metadata": {},
   "outputs": [],
   "source": []
  }
 ],
 "metadata": {
  "kernelspec": {
   "display_name": "Python 3",
   "language": "python",
   "name": "python3"
  },
  "language_info": {
   "codemirror_mode": {
    "name": "ipython",
    "version": 3
   },
   "file_extension": ".py",
   "mimetype": "text/x-python",
   "name": "python",
   "nbconvert_exporter": "python",
   "pygments_lexer": "ipython3",
   "version": "3.13.2"
  }
 },
 "nbformat": 4,
 "nbformat_minor": 5
}
